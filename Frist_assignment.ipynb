{
  "nbformat": 4,
  "nbformat_minor": 0,
  "metadata": {
    "colab": {
      "provenance": [],
      "collapsed_sections": [],
      "authorship_tag": "ABX9TyNXPft8h3gzbDPDURNVyK06",
      "include_colab_link": true
    },
    "kernelspec": {
      "name": "python3",
      "display_name": "Python 3"
    },
    "language_info": {
      "name": "python"
    }
  },
  "cells": [
    {
      "cell_type": "markdown",
      "metadata": {
        "id": "view-in-github",
        "colab_type": "text"
      },
      "source": [
        "<a href=\"https://colab.research.google.com/github/emtiaz2060/MY-profolio/blob/main/Frist_assignment.ipynb\" target=\"_parent\"><img src=\"https://colab.research.google.com/assets/colab-badge.svg\" alt=\"Open In Colab\"/></a>"
      ]
    },
    {
      "cell_type": "code",
      "execution_count": null,
      "metadata": {
        "id": "MM4KSnW79uOC",
        "colab": {
          "base_uri": "https://localhost:8080/"
        },
        "outputId": "1f6a53db-5bbf-4306-d10e-2ba27bf6e600"
      },
      "outputs": [
        {
          "output_type": "stream",
          "name": "stdout",
          "text": [
            "hello world\n"
          ]
        }
      ],
      "source": [
        "#task-1\n",
        "#print(\"hello world\")"
      ]
    },
    {
      "cell_type": "markdown",
      "source": [],
      "metadata": {
        "id": "I2IebKekBWTB"
      }
    },
    {
      "cell_type": "code",
      "source": [
        "#task-2\n",
        "#print(54+56)"
      ],
      "metadata": {
        "colab": {
          "base_uri": "https://localhost:8080/"
        },
        "id": "PxTea1tfq_mt",
        "outputId": "6bf7b49b-22fc-4e80-9959-889775b77f24"
      },
      "execution_count": null,
      "outputs": [
        {
          "output_type": "stream",
          "name": "stdout",
          "text": [
            "110\n"
          ]
        }
      ]
    },
    {
      "cell_type": "code",
      "source": [
        "# #task-3\n",
        "# season=\"Fall\"\n",
        "# year=2022\n",
        "# print(season)\n",
        "# print(year)\n",
        "\n"
      ],
      "metadata": {
        "id": "zJhB7FpOr30d",
        "colab": {
          "base_uri": "https://localhost:8080/"
        },
        "outputId": "a671771c-de48-4729-b757-f4c624f118f7"
      },
      "execution_count": null,
      "outputs": [
        {
          "output_type": "stream",
          "name": "stdout",
          "text": [
            "Fall\n",
            "2022\n"
          ]
        }
      ]
    },
    {
      "cell_type": "code",
      "source": [
        "#task-4\n",
        "# name=input(\"\")\n",
        "# print(\"Your name is\" ,name)"
      ],
      "metadata": {
        "colab": {
          "base_uri": "https://localhost:8080/"
        },
        "id": "aLllgZxJZFQi",
        "outputId": "091daf5f-a092-4365-e07e-ca9dae8436f5"
      },
      "execution_count": null,
      "outputs": [
        {
          "output_type": "stream",
          "name": "stdout",
          "text": [
            "emtiaz\n",
            "Your name is emtiaz\n"
          ]
        }
      ]
    },
    {
      "cell_type": "code",
      "source": [
        "#task-5\n",
        "M = int(input(\"Enter the value of M: \"))\n",
        "N = int(input(\"Enter the value of N: \"))\n",
        "exponentiation = M**N\n",
        "print(\"{}^{}:{}\".format(M,N,exponentiation))"
      ],
      "metadata": {
        "id": "hdEtoKZCZsKY",
        "colab": {
          "base_uri": "https://localhost:8080/"
        },
        "outputId": "74e40e17-3e08-431b-80c5-d4de5de254f0"
      },
      "execution_count": 23,
      "outputs": [
        {
          "output_type": "stream",
          "name": "stdout",
          "text": [
            "Enter the value of M: 10\n",
            "Enter the value of N: 3\n",
            "10^3:1000\n"
          ]
        }
      ]
    },
    {
      "cell_type": "code",
      "source": [
        "#task-6\n",
        "var1=int(input(\"enter a number: \"))\n",
        "var2=4\n",
        "x=var1//4\n",
        "print(x*4)\n",
        " "
      ],
      "metadata": {
        "id": "vMSAa46rba1i",
        "colab": {
          "base_uri": "https://localhost:8080/"
        },
        "outputId": "52b8f147-9735-4b6f-f3ed-2ca0fa48921e"
      },
      "execution_count": 26,
      "outputs": [
        {
          "output_type": "stream",
          "name": "stdout",
          "text": [
            "enter a number: 23\n",
            "20\n"
          ]
        }
      ]
    },
    {
      "cell_type": "code",
      "source": [
        "#task-7\n",
        "var1=input()\n",
        "var2=input()\n",
        "print(var2+var1)"
      ],
      "metadata": {
        "colab": {
          "base_uri": "https://localhost:8080/"
        },
        "id": "6nrYJ5O-lnAF",
        "outputId": "59d7f3db-a028-440e-9345-e8d512f4d4a3"
      },
      "execution_count": 27,
      "outputs": [
        {
          "output_type": "stream",
          "name": "stdout",
          "text": [
            "hello\n",
            "world\n",
            "worldhello\n"
          ]
        }
      ]
    },
    {
      "cell_type": "code",
      "source": [
        "#task-8\n",
        "value=(input(\"please enter a sentence: \"))\n",
        "print(value[0])"
      ],
      "metadata": {
        "colab": {
          "base_uri": "https://localhost:8080/"
        },
        "id": "b_O40UBfl3zc",
        "outputId": "983af9a0-0aad-442f-8106-04785f2911de"
      },
      "execution_count": 28,
      "outputs": [
        {
          "output_type": "stream",
          "name": "stdout",
          "text": [
            "please enter a sentence: The quick brown fox jumps over the lazy dog\n",
            "T\n"
          ]
        }
      ]
    },
    {
      "cell_type": "code",
      "source": [
        "#task-9\n",
        "num = int(input(\"Enter a number: \"))\n",
        "mod = num % 2\n",
        "if mod >= 0:\n",
        "    print(\"True\")\n",
        "else:\n",
        "    print(\"False\")"
      ],
      "metadata": {
        "colab": {
          "base_uri": "https://localhost:8080/"
        },
        "id": "vfAMaJM0mUNT",
        "outputId": "722f6bb2-7a04-4404-c3b2-5c67edd77a73"
      },
      "execution_count": 32,
      "outputs": [
        {
          "output_type": "stream",
          "name": "stdout",
          "text": [
            "Enter a number: 0\n",
            "True\n"
          ]
        }
      ]
    },
    {
      "cell_type": "code",
      "source": [
        "#task-10\n",
        "a=(int(input(\"Enter first number: \")))\n",
        "b=(int(input(\"Enter second number: \")))\n",
        "c=(int(input(\"Enter third number: \")))\n",
        "d=(float(input(\"Enter fourth number: \")))\n",
        "x=a**c\n",
        "y=b*a\n",
        "z=d/3\n",
        "print(int(x+y-z))"
      ],
      "metadata": {
        "colab": {
          "base_uri": "https://localhost:8080/"
        },
        "id": "KRtQh3v3nI_V",
        "outputId": "bff4d226-5410-456f-8e85-cc8a2393224a"
      },
      "execution_count": 35,
      "outputs": [
        {
          "output_type": "stream",
          "name": "stdout",
          "text": [
            "Enter first number: 88\n",
            "Enter second number: 22\n",
            "Enter third number: 1\n",
            "Enter fourth number: 3.3\n",
            "2022\n"
          ]
        }
      ]
    },
    {
      "cell_type": "code",
      "source": [
        "#task-11\n",
        "a=int(input(\"Enter your number of chocolates: \"))\n",
        "b=int(a/3)\n",
        "c=int(a%3)\n",
        "print(f\"Each friend will recevie {b} Chocolates\")\n",
        "print(f\"the number of remaining chocolates is {c} \")\n",
        "\n"
      ],
      "metadata": {
        "colab": {
          "base_uri": "https://localhost:8080/"
        },
        "id": "7xyrq0XpnxYt",
        "outputId": "b396a374-2327-4ac6-c8da-dbd3d637ec10"
      },
      "execution_count": 38,
      "outputs": [
        {
          "output_type": "stream",
          "name": "stdout",
          "text": [
            "Enter your number of chocolates: 90\n",
            "Each friend will recevie 30 Chocolates\n",
            "the number of remaining chocolates is 0 \n"
          ]
        }
      ]
    }
  ]
}